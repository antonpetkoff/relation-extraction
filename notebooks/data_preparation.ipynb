{
 "cells": [
  {
   "cell_type": "code",
   "execution_count": 1,
   "metadata": {},
   "outputs": [],
   "source": [
    "import json\n",
    "from pprint import pprint\n",
    "import pandas as pd\n",
    "import numpy as np\n",
    "import matplotlib.pyplot as plt\n",
    "from pandas.io.json import json_normalize\n",
    "\n",
    "from IPython.core.interactiveshell import InteractiveShell\n",
    "InteractiveShell.ast_node_interactivity = \"all\""
   ]
  },
  {
   "cell_type": "code",
   "execution_count": 2,
   "metadata": {},
   "outputs": [],
   "source": [
    "import sys\n",
    "sys.path.insert(0, '../utils')\n",
    "import data_utils"
   ]
  },
  {
   "cell_type": "code",
   "execution_count": 6,
   "metadata": {},
   "outputs": [
    {
     "data": {
      "text/html": [
       "<div>\n",
       "<style scoped>\n",
       "    .dataframe tbody tr th:only-of-type {\n",
       "        vertical-align: middle;\n",
       "    }\n",
       "\n",
       "    .dataframe tbody tr th {\n",
       "        vertical-align: top;\n",
       "    }\n",
       "\n",
       "    .dataframe thead th {\n",
       "        text-align: right;\n",
       "    }\n",
       "</style>\n",
       "<table border=\"1\" class=\"dataframe\">\n",
       "  <thead>\n",
       "    <tr style=\"text-align: right;\">\n",
       "      <th></th>\n",
       "      <th>head.word</th>\n",
       "      <th>sentence</th>\n",
       "      <th>tail.word</th>\n",
       "    </tr>\n",
       "  </thead>\n",
       "  <tbody>\n",
       "    <tr>\n",
       "      <th>0</th>\n",
       "      <td>Arthur Schnitzler</td>\n",
       "      <td>The Little Comedy , '' a mannered operetta bas...</td>\n",
       "      <td>Vienna</td>\n",
       "    </tr>\n",
       "    <tr>\n",
       "      <th>1</th>\n",
       "      <td>Roberto Calvi</td>\n",
       "      <td>A court in Rome acquitted five people accused ...</td>\n",
       "      <td>Italy</td>\n",
       "    </tr>\n",
       "    <tr>\n",
       "      <th>2</th>\n",
       "      <td>Johnny Rivers</td>\n",
       "      <td>There were also performers who were born in Lo...</td>\n",
       "      <td>Louisiana</td>\n",
       "    </tr>\n",
       "    <tr>\n",
       "      <th>3</th>\n",
       "      <td>Philippines</td>\n",
       "      <td>When Julian Resuello , the mayor of San Carlos...</td>\n",
       "      <td>San Carlos City</td>\n",
       "    </tr>\n",
       "    <tr>\n",
       "      <th>4</th>\n",
       "      <td>Alex Salmond</td>\n",
       "      <td>A3 Concern Raised by Libya Deal Alex Salmond ,...</td>\n",
       "      <td>Scotland</td>\n",
       "    </tr>\n",
       "  </tbody>\n",
       "</table>\n",
       "</div>"
      ],
      "text/plain": [
       "           head.word                                           sentence  \\\n",
       "0  Arthur Schnitzler  The Little Comedy , '' a mannered operetta bas...   \n",
       "1      Roberto Calvi  A court in Rome acquitted five people accused ...   \n",
       "2      Johnny Rivers  There were also performers who were born in Lo...   \n",
       "3        Philippines  When Julian Resuello , the mayor of San Carlos...   \n",
       "4       Alex Salmond  A3 Concern Raised by Libya Deal Alex Salmond ,...   \n",
       "\n",
       "         tail.word  \n",
       "0           Vienna  \n",
       "1            Italy  \n",
       "2        Louisiana  \n",
       "3  San Carlos City  \n",
       "4         Scotland  "
      ]
     },
     "execution_count": 6,
     "metadata": {},
     "output_type": "execute_result"
    },
    {
     "data": {
      "text/plain": [
       "0    /people/person/place_of_birth\n",
       "1       /people/person/nationality\n",
       "2       /people/person/place_lived\n",
       "3      /location/location/contains\n",
       "4       /people/person/nationality\n",
       "Name: relation, dtype: object"
      ]
     },
     "execution_count": 6,
     "metadata": {},
     "output_type": "execute_result"
    }
   ],
   "source": [
    "df = data_utils.json_to_df('../data/raw/test.json')\n",
    "\n",
    "df_x = df[['head.word', 'sentence', 'tail.word']]\n",
    "df_y = df['relation']\n",
    "\n",
    "df_x.head()\n",
    "df_y.head()"
   ]
  }
 ],
 "metadata": {
  "kernelspec": {
   "display_name": "Python 3",
   "language": "python",
   "name": "python3"
  },
  "language_info": {
   "codemirror_mode": {
    "name": "ipython",
    "version": 3
   },
   "file_extension": ".py",
   "mimetype": "text/x-python",
   "name": "python",
   "nbconvert_exporter": "python",
   "pygments_lexer": "ipython3",
   "version": "3.6.8"
  }
 },
 "nbformat": 4,
 "nbformat_minor": 2
}
