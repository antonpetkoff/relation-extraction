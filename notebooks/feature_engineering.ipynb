{
 "cells": [
  {
   "cell_type": "code",
   "execution_count": 1,
   "metadata": {},
   "outputs": [],
   "source": [
    "import json\n",
    "from pprint import pprint\n",
    "import pandas as pd\n",
    "import numpy as np\n",
    "import matplotlib.pyplot as plt\n",
    "from pandas.io.json import json_normalize\n",
    "\n",
    "from IPython.core.interactiveshell import InteractiveShell\n",
    "InteractiveShell.ast_node_interactivity = \"all\""
   ]
  },
  {
   "cell_type": "code",
   "execution_count": 2,
   "metadata": {},
   "outputs": [],
   "source": [
    "import sys\n",
    "sys.path.insert(0, '../utils')\n",
    "import data_utils"
   ]
  },
  {
   "cell_type": "code",
   "execution_count": 3,
   "metadata": {},
   "outputs": [],
   "source": [
    "df_train = data_utils.load_data_set('../data/train/train.csv')"
   ]
  },
  {
   "cell_type": "code",
   "execution_count": 4,
   "metadata": {},
   "outputs": [
    {
     "data": {
      "text/html": [
       "<div>\n",
       "<style scoped>\n",
       "    .dataframe tbody tr th:only-of-type {\n",
       "        vertical-align: middle;\n",
       "    }\n",
       "\n",
       "    .dataframe tbody tr th {\n",
       "        vertical-align: top;\n",
       "    }\n",
       "\n",
       "    .dataframe thead th {\n",
       "        text-align: right;\n",
       "    }\n",
       "</style>\n",
       "<table border=\"1\" class=\"dataframe\">\n",
       "  <thead>\n",
       "    <tr style=\"text-align: right;\">\n",
       "      <th></th>\n",
       "      <th>vec</th>\n",
       "      <th>word</th>\n",
       "    </tr>\n",
       "  </thead>\n",
       "  <tbody>\n",
       "    <tr>\n",
       "      <th>0</th>\n",
       "      <td>[0.198994, 0.219711, -0.190422, -0.162968, 0.0...</td>\n",
       "      <td>&lt;/s&gt;</td>\n",
       "    </tr>\n",
       "    <tr>\n",
       "      <th>1</th>\n",
       "      <td>[-0.006928, 0.031052, -0.140201, 0.041724, 0.1...</td>\n",
       "      <td>,</td>\n",
       "    </tr>\n",
       "    <tr>\n",
       "      <th>2</th>\n",
       "      <td>[-0.065975, 0.037477, 0.009166, 0.189686, 0.04...</td>\n",
       "      <td>.</td>\n",
       "    </tr>\n",
       "    <tr>\n",
       "      <th>3</th>\n",
       "      <td>[-0.147404, -0.03084, -0.020694, 0.023617, -0....</td>\n",
       "      <td>the</td>\n",
       "    </tr>\n",
       "    <tr>\n",
       "      <th>4</th>\n",
       "      <td>[-0.119614, -0.128246, -0.201903, 0.248234, -0...</td>\n",
       "      <td>'</td>\n",
       "    </tr>\n",
       "  </tbody>\n",
       "</table>\n",
       "</div>"
      ],
      "text/plain": [
       "                                                 vec  word\n",
       "0  [0.198994, 0.219711, -0.190422, -0.162968, 0.0...  </s>\n",
       "1  [-0.006928, 0.031052, -0.140201, 0.041724, 0.1...     ,\n",
       "2  [-0.065975, 0.037477, 0.009166, 0.189686, 0.04...     .\n",
       "3  [-0.147404, -0.03084, -0.020694, 0.023617, -0....   the\n",
       "4  [-0.119614, -0.128246, -0.201903, 0.248234, -0...     '"
      ]
     },
     "execution_count": 4,
     "metadata": {},
     "output_type": "execute_result"
    }
   ],
   "source": [
    "df_word_vec = data_utils.json_to_df('../data/raw/word_vec.json')\n",
    "df_word_vec.head()"
   ]
  },
  {
   "cell_type": "code",
   "execution_count": 5,
   "metadata": {},
   "outputs": [],
   "source": [
    "# load word embeddings\n",
    "\n",
    "with open('../data/raw/word_vec.json') as f:\n",
    "    word_vec = json.load(f)\n",
    "    \n",
    "word_embeddings = {\n",
    "    obj['word']: np.asarray(obj['vec'])\n",
    "    for obj in word_vec\n",
    "}"
   ]
  },
  {
   "cell_type": "code",
   "execution_count": 8,
   "metadata": {},
   "outputs": [],
   "source": [
    "word_emeddings_dim = len(word_embeddings['the'])"
   ]
  },
  {
   "cell_type": "code",
   "execution_count": 9,
   "metadata": {},
   "outputs": [],
   "source": [
    "from nltk.corpus import stopwords\n",
    "from nltk.tokenize import RegexpTokenizer\n",
    "\n",
    "tokenizer = RegexpTokenizer(r'\\w+')\n",
    "stop_words = set(stopwords.words('english'))\n",
    "\n",
    "def clean_stop_words(text):\n",
    "    word_tokens = tokenizer.tokenize(text.lower())\n",
    "    return [w for w in word_tokens if not w in stop_words]"
   ]
  },
  {
   "cell_type": "code",
   "execution_count": 11,
   "metadata": {},
   "outputs": [],
   "source": [
    "# {word: get_word_vector(word) for word in clean_words}"
   ]
  },
  {
   "cell_type": "code",
   "execution_count": 12,
   "metadata": {},
   "outputs": [],
   "source": [
    "def average_embeddings(word_embeddings, words, word_embeddings_dim=50):\n",
    "    embeddings = [\n",
    "        word_embeddings[word]\n",
    "        for word in words\n",
    "        if word in word_embeddings\n",
    "    ]\n",
    "    return np.mean(embeddings, axis=0) if len(embeddings) > 0 else np.zeros(word_embeddings_dim)"
   ]
  },
  {
   "cell_type": "code",
   "execution_count": 13,
   "metadata": {},
   "outputs": [
    {
     "data": {
      "text/plain": [
       "head.word                                             Syracuse\n",
       "tail.word                                        Onondaga Lake\n",
       "sentence     She also oversaw the refinancing of the state ...\n",
       "relation                           /location/location/contains\n",
       "Name: 0, dtype: object"
      ]
     },
     "execution_count": 13,
     "metadata": {},
     "output_type": "execute_result"
    }
   ],
   "source": [
    "sample = df_train.iloc[0]\n",
    "sample"
   ]
  },
  {
   "cell_type": "code",
   "execution_count": 14,
   "metadata": {},
   "outputs": [
    {
     "data": {
      "text/plain": [
       "array([-0.045853  , -0.03708733, -0.06529133,  0.07590133, -0.11146467,\n",
       "       -0.04441367,  0.08466933, -0.11148033,  0.01370567,  0.10371967,\n",
       "        0.069073  , -0.115706  , -0.16021233, -0.17973767, -0.06104333,\n",
       "        0.02720333,  0.09825967,  0.10388467,  0.008464  , -0.08453167,\n",
       "        0.01399167,  0.01351167,  0.19640033,  0.05474067, -0.145361  ,\n",
       "       -0.021305  ,  0.14872167,  0.12316633, -0.187006  ,  0.053903  ,\n",
       "       -0.04379667, -0.17391433,  0.020141  ,  0.076068  ,  0.000353  ,\n",
       "        0.06558533, -0.076822  ,  0.08358833, -0.10622533,  0.01477367,\n",
       "       -0.089145  ,  0.13179633, -0.042874  , -0.03094167, -0.044961  ,\n",
       "       -0.01616367,  0.09775167,  0.03294867, -0.00500967, -0.104651  ])"
      ]
     },
     "execution_count": 14,
     "metadata": {},
     "output_type": "execute_result"
    }
   ],
   "source": [
    "words = ['hello', 'world', 'syracuse', 'asdfgfd']\n",
    "average_embeddings(word_embeddings, words)"
   ]
  }
 ],
 "metadata": {
  "kernelspec": {
   "display_name": "Python 3",
   "language": "python",
   "name": "python3"
  },
  "language_info": {
   "codemirror_mode": {
    "name": "ipython",
    "version": 3
   },
   "file_extension": ".py",
   "mimetype": "text/x-python",
   "name": "python",
   "nbconvert_exporter": "python",
   "pygments_lexer": "ipython3",
   "version": "3.6.8"
  }
 },
 "nbformat": 4,
 "nbformat_minor": 2
}
