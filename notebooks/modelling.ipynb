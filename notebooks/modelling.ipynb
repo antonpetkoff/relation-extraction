{
 "cells": [
  {
   "cell_type": "code",
   "execution_count": 1,
   "metadata": {},
   "outputs": [],
   "source": [
    "import json\n",
    "from pprint import pprint\n",
    "import pandas as pd\n",
    "import numpy as np\n",
    "import matplotlib.pyplot as plt\n",
    "from pandas.io.json import json_normalize\n",
    "\n",
    "from IPython.core.interactiveshell import InteractiveShell\n",
    "InteractiveShell.ast_node_interactivity = \"all\""
   ]
  },
  {
   "cell_type": "code",
   "execution_count": 2,
   "metadata": {},
   "outputs": [],
   "source": [
    "import sys\n",
    "sys.path.insert(0, '../utils')\n",
    "import data_utils\n",
    "\n",
    "sys.path.insert(0, '../models')\n",
    "import log_reg_word_embeddings"
   ]
  },
  {
   "cell_type": "code",
   "execution_count": 3,
   "metadata": {},
   "outputs": [],
   "source": [
    "df_train = data_utils.load_data_set('../data/train/train.csv')\n",
    "df_train_x = df_train[['head.word', 'tail.word', 'sentence']]\n",
    "df_train_y = df_train['relation']"
   ]
  },
  {
   "cell_type": "code",
   "execution_count": 4,
   "metadata": {},
   "outputs": [],
   "source": [
    "model = log_reg_word_embeddings.LogRegWordEmbeddings()"
   ]
  },
  {
   "cell_type": "code",
   "execution_count": 5,
   "metadata": {},
   "outputs": [],
   "source": [
    "# df_train_features = model.transform(df_train_x)"
   ]
  },
  {
   "cell_type": "code",
   "execution_count": 6,
   "metadata": {},
   "outputs": [],
   "source": [
    "# train_labels = df_train_y.values.reshape(-1, 1)\n",
    "# df_train_labels = model.transform_labels(train_labels)"
   ]
  },
  {
   "cell_type": "code",
   "execution_count": 7,
   "metadata": {},
   "outputs": [],
   "source": [
    "# df_train_features.values"
   ]
  },
  {
   "cell_type": "code",
   "execution_count": 8,
   "metadata": {},
   "outputs": [
    {
     "name": "stdout",
     "output_type": "stream",
     "text": [
      "Tokenizing sentences...\n",
      "0    [she, also, oversaw, refinancing, state, super...\n",
      "1    [more, 2, 5, million, cubic, yards, contaminat...\n",
      "2    [the, onondaga, nation, 1, 500, members, feder...\n",
      "3    [he, born, istanbul, raised, eastern, city, ad...\n",
      "4    [by, end, recent, tour, rollins, met, soldiers...\n",
      "Name: sentence, dtype: object\n",
      "Averaging word embeddings...\n",
      "0    [-0.024940285714285717, -0.014328357142857137,...\n",
      "1    [0.022366650000000002, 0.060093550000000016, -...\n",
      "2    [-0.02160072727272727, 0.10642886363636364, -0...\n",
      "3    [0.012861874999999998, 0.0178651875, -0.102017...\n",
      "4    [0.07083508108108107, 0.03429608108108108, -0....\n",
      "Name: sentence, dtype: object\n",
      "Fitting label encoder...\n",
      "[array(['/broadcast/content/location', '/broadcast/producer/location',\n",
      "       '/business/business_location/parent_company',\n",
      "       '/business/company/advisors', '/business/company/founders',\n",
      "       '/business/company/industry', '/business/company/locations',\n",
      "       '/business/company/major_shareholders',\n",
      "       '/business/company/place_founded',\n",
      "       '/business/company_advisor/companies_advised',\n",
      "       '/business/company_shareholder/major_shareholder_of',\n",
      "       '/business/person/company', '/business/shopping_center/owner',\n",
      "       '/business/shopping_center_owner/shopping_centers_owned',\n",
      "       '/film/film/featured_film_locations',\n",
      "       '/film/film_festival/location',\n",
      "       '/film/film_location/featured_in_films',\n",
      "       '/location/administrative_division/country',\n",
      "       '/location/br_state/capital', '/location/cn_province/capital',\n",
      "       '/location/country/administrative_divisions',\n",
      "       '/location/country/capital', '/location/de_state/capital',\n",
      "       '/location/fr_region/capital',\n",
      "       '/location/in_state/administrative_capital',\n",
      "       '/location/in_state/judicial_capital',\n",
      "       '/location/in_state/legislative_capital',\n",
      "       '/location/it_region/capital', '/location/jp_prefecture/capital',\n",
      "       '/location/location/contains', '/location/mx_state/capital',\n",
      "       '/location/neighborhood/neighborhood_of',\n",
      "       '/location/province/capital', '/location/us_county/county_seat',\n",
      "       '/location/us_state/capital',\n",
      "       '/people/deceased_person/place_of_burial',\n",
      "       '/people/deceased_person/place_of_death',\n",
      "       '/people/ethnicity/geographic_distribution',\n",
      "       '/people/ethnicity/included_in_group',\n",
      "       '/people/ethnicity/includes_groups', '/people/ethnicity/people',\n",
      "       '/people/family/country', '/people/family/members',\n",
      "       '/people/person/children', '/people/person/ethnicity',\n",
      "       '/people/person/nationality', '/people/person/place_lived',\n",
      "       '/people/person/place_of_birth', '/people/person/profession',\n",
      "       '/people/person/religion',\n",
      "       '/people/place_of_interment/interred_here',\n",
      "       '/people/profession/people_with_this_profession',\n",
      "       '/sports/sports_team/location',\n",
      "       '/sports/sports_team_location/teams', '/time/event/locations',\n",
      "       'NA'], dtype=object)]\n",
      "Transforming labels...\n",
      "Fitting model...\n"
     ]
    }
   ],
   "source": [
    "# from sklearn.linear_model import LogisticRegression\n",
    "\n",
    "# log_reg = LogisticRegression(multi_class='multinomial', solver='lbfgs')\n",
    "\n",
    "# log_reg.fit(df_train_features.values, df_train_labels.values)\n",
    "\n",
    "# model.model\n",
    "model.fit(df_train_x, df_train_y)"
   ]
  },
  {
   "cell_type": "code",
   "execution_count": 13,
   "metadata": {},
   "outputs": [
    {
     "data": {
      "text/plain": [
       "LogisticRegression(C=1.0, class_weight=None, dual=False, fit_intercept=True,\n",
       "          intercept_scaling=1, max_iter=100, multi_class='multinomial',\n",
       "          n_jobs=2, penalty='l2', random_state=None, solver='lbfgs',\n",
       "          tol=0.0001, verbose=0, warm_start=False)"
      ]
     },
     "execution_count": 13,
     "metadata": {},
     "output_type": "execute_result"
    }
   ],
   "source": []
  },
  {
   "cell_type": "code",
   "execution_count": 9,
   "metadata": {},
   "outputs": [],
   "source": [
    "# df_train_features.tolist()"
   ]
  },
  {
   "cell_type": "code",
   "execution_count": 10,
   "metadata": {},
   "outputs": [],
   "source": [
    "# model.fit(df_train_x, df_train_y)"
   ]
  },
  {
   "cell_type": "code",
   "execution_count": 11,
   "metadata": {},
   "outputs": [
    {
     "data": {
      "text/plain": [
       "head.word                                             Syracuse\n",
       "tail.word                                        Onondaga Lake\n",
       "sentence     She also oversaw the refinancing of the state ...\n",
       "Name: 0, dtype: object"
      ]
     },
     "execution_count": 11,
     "metadata": {},
     "output_type": "execute_result"
    }
   ],
   "source": [
    "sample = df_train_x.iloc[0]\n",
    "sample"
   ]
  },
  {
   "cell_type": "code",
   "execution_count": 12,
   "metadata": {},
   "outputs": [
    {
     "name": "stdout",
     "output_type": "stream",
     "text": [
      "Tokenizing sentences...\n",
      "0    [she, also, oversaw, refinancing, state, super...\n",
      "1    [more, 2, 5, million, cubic, yards, contaminat...\n",
      "2    [the, onondaga, nation, 1, 500, members, feder...\n",
      "3    [he, born, istanbul, raised, eastern, city, ad...\n",
      "4    [by, end, recent, tour, rollins, met, soldiers...\n",
      "Name: sentence, dtype: object\n",
      "Averaging word embeddings...\n",
      "0    [-0.024940285714285717, -0.014328357142857137,...\n",
      "1    [0.022366650000000002, 0.060093550000000016, -...\n",
      "2    [-0.02160072727272727, 0.10642886363636364, -0...\n",
      "3    [0.012861874999999998, 0.0178651875, -0.102017...\n",
      "4    [0.07083508108108107, 0.03429608108108108, -0....\n",
      "Name: sentence, dtype: object\n"
     ]
    },
    {
     "ename": "NotFittedError",
     "evalue": "This LogisticRegression instance is not fitted yet",
     "output_type": "error",
     "traceback": [
      "\u001b[0;31m---------------------------------------------------------------------------\u001b[0m",
      "\u001b[0;31mNotFittedError\u001b[0m                            Traceback (most recent call last)",
      "\u001b[0;32m<ipython-input-12-c9bdcf9b9792>\u001b[0m in \u001b[0;36m<module>\u001b[0;34m\u001b[0m\n\u001b[0;32m----> 1\u001b[0;31m \u001b[0mmodel\u001b[0m\u001b[0;34m.\u001b[0m\u001b[0mpredict\u001b[0m\u001b[0;34m(\u001b[0m\u001b[0mdf_train_x\u001b[0m\u001b[0;34m.\u001b[0m\u001b[0mhead\u001b[0m\u001b[0;34m(\u001b[0m\u001b[0;34m)\u001b[0m\u001b[0;34m)\u001b[0m\u001b[0;34m\u001b[0m\u001b[0;34m\u001b[0m\u001b[0m\n\u001b[0m",
      "\u001b[0;32m~/source/relation-extraction/models/log_reg_word_embeddings.py\u001b[0m in \u001b[0;36mpredict\u001b[0;34m(self, test_x)\u001b[0m\n\u001b[1;32m     52\u001b[0m         \u001b[0mfeatures\u001b[0m \u001b[0;34m=\u001b[0m \u001b[0mself\u001b[0m\u001b[0;34m.\u001b[0m\u001b[0mtransform\u001b[0m\u001b[0;34m(\u001b[0m\u001b[0mtest_x\u001b[0m\u001b[0;34m)\u001b[0m\u001b[0;34m\u001b[0m\u001b[0;34m\u001b[0m\u001b[0m\n\u001b[1;32m     53\u001b[0m \u001b[0;34m\u001b[0m\u001b[0m\n\u001b[0;32m---> 54\u001b[0;31m         \u001b[0mpredictions\u001b[0m \u001b[0;34m=\u001b[0m \u001b[0mself\u001b[0m\u001b[0;34m.\u001b[0m\u001b[0mmodel\u001b[0m\u001b[0;34m.\u001b[0m\u001b[0mpredict\u001b[0m\u001b[0;34m(\u001b[0m\u001b[0mfeatures\u001b[0m\u001b[0;34m)\u001b[0m\u001b[0;34m\u001b[0m\u001b[0;34m\u001b[0m\u001b[0m\n\u001b[0m\u001b[1;32m     55\u001b[0m \u001b[0;34m\u001b[0m\u001b[0m\n\u001b[1;32m     56\u001b[0m         \u001b[0;32mreturn\u001b[0m \u001b[0mself\u001b[0m\u001b[0;34m.\u001b[0m\u001b[0mlabel_encoder\u001b[0m\u001b[0;34m.\u001b[0m\u001b[0minverse_transform\u001b[0m\u001b[0;34m(\u001b[0m\u001b[0mpredictions\u001b[0m\u001b[0;34m)\u001b[0m\u001b[0;34m\u001b[0m\u001b[0;34m\u001b[0m\u001b[0m\n",
      "\u001b[0;32m~/source/relation-extraction/venv/lib/python3.6/site-packages/sklearn/linear_model/base.py\u001b[0m in \u001b[0;36mpredict\u001b[0;34m(self, X)\u001b[0m\n\u001b[1;32m    279\u001b[0m             \u001b[0mPredicted\u001b[0m \u001b[0;32mclass\u001b[0m \u001b[0mlabel\u001b[0m \u001b[0mper\u001b[0m \u001b[0msample\u001b[0m\u001b[0;34m.\u001b[0m\u001b[0;34m\u001b[0m\u001b[0;34m\u001b[0m\u001b[0m\n\u001b[1;32m    280\u001b[0m         \"\"\"\n\u001b[0;32m--> 281\u001b[0;31m         \u001b[0mscores\u001b[0m \u001b[0;34m=\u001b[0m \u001b[0mself\u001b[0m\u001b[0;34m.\u001b[0m\u001b[0mdecision_function\u001b[0m\u001b[0;34m(\u001b[0m\u001b[0mX\u001b[0m\u001b[0;34m)\u001b[0m\u001b[0;34m\u001b[0m\u001b[0;34m\u001b[0m\u001b[0m\n\u001b[0m\u001b[1;32m    282\u001b[0m         \u001b[0;32mif\u001b[0m \u001b[0mlen\u001b[0m\u001b[0;34m(\u001b[0m\u001b[0mscores\u001b[0m\u001b[0;34m.\u001b[0m\u001b[0mshape\u001b[0m\u001b[0;34m)\u001b[0m \u001b[0;34m==\u001b[0m \u001b[0;36m1\u001b[0m\u001b[0;34m:\u001b[0m\u001b[0;34m\u001b[0m\u001b[0;34m\u001b[0m\u001b[0m\n\u001b[1;32m    283\u001b[0m             \u001b[0mindices\u001b[0m \u001b[0;34m=\u001b[0m \u001b[0;34m(\u001b[0m\u001b[0mscores\u001b[0m \u001b[0;34m>\u001b[0m \u001b[0;36m0\u001b[0m\u001b[0;34m)\u001b[0m\u001b[0;34m.\u001b[0m\u001b[0mastype\u001b[0m\u001b[0;34m(\u001b[0m\u001b[0mnp\u001b[0m\u001b[0;34m.\u001b[0m\u001b[0mint\u001b[0m\u001b[0;34m)\u001b[0m\u001b[0;34m\u001b[0m\u001b[0;34m\u001b[0m\u001b[0m\n",
      "\u001b[0;32m~/source/relation-extraction/venv/lib/python3.6/site-packages/sklearn/linear_model/base.py\u001b[0m in \u001b[0;36mdecision_function\u001b[0;34m(self, X)\u001b[0m\n\u001b[1;32m    253\u001b[0m         \u001b[0;32mif\u001b[0m \u001b[0;32mnot\u001b[0m \u001b[0mhasattr\u001b[0m\u001b[0;34m(\u001b[0m\u001b[0mself\u001b[0m\u001b[0;34m,\u001b[0m \u001b[0;34m'coef_'\u001b[0m\u001b[0;34m)\u001b[0m \u001b[0;32mor\u001b[0m \u001b[0mself\u001b[0m\u001b[0;34m.\u001b[0m\u001b[0mcoef_\u001b[0m \u001b[0;32mis\u001b[0m \u001b[0;32mNone\u001b[0m\u001b[0;34m:\u001b[0m\u001b[0;34m\u001b[0m\u001b[0;34m\u001b[0m\u001b[0m\n\u001b[1;32m    254\u001b[0m             raise NotFittedError(\"This %(name)s instance is not fitted \"\n\u001b[0;32m--> 255\u001b[0;31m                                  \"yet\" % {'name': type(self).__name__})\n\u001b[0m\u001b[1;32m    256\u001b[0m \u001b[0;34m\u001b[0m\u001b[0m\n\u001b[1;32m    257\u001b[0m         \u001b[0mX\u001b[0m \u001b[0;34m=\u001b[0m \u001b[0mcheck_array\u001b[0m\u001b[0;34m(\u001b[0m\u001b[0mX\u001b[0m\u001b[0;34m,\u001b[0m \u001b[0maccept_sparse\u001b[0m\u001b[0;34m=\u001b[0m\u001b[0;34m'csr'\u001b[0m\u001b[0;34m)\u001b[0m\u001b[0;34m\u001b[0m\u001b[0;34m\u001b[0m\u001b[0m\n",
      "\u001b[0;31mNotFittedError\u001b[0m: This LogisticRegression instance is not fitted yet"
     ]
    }
   ],
   "source": [
    "model.predict(df_train_x.head())"
   ]
  },
  {
   "cell_type": "code",
   "execution_count": null,
   "metadata": {},
   "outputs": [],
   "source": [
    "from sklearn import datasets\n",
    "iris = datasets.load_iris()\n",
    "iris.target"
   ]
  },
  {
   "cell_type": "code",
   "execution_count": null,
   "metadata": {},
   "outputs": [],
   "source": [
    "from sklearn.preprocessing import LabelEncoder\n",
    "\n",
    "label_encoder = LabelEncoder()\n",
    "label_encoder.fit(df_train_y)"
   ]
  },
  {
   "cell_type": "code",
   "execution_count": null,
   "metadata": {},
   "outputs": [],
   "source": [
    "label_encoder.classes_"
   ]
  }
 ],
 "metadata": {
  "kernelspec": {
   "display_name": "Python 3",
   "language": "python",
   "name": "python3"
  },
  "language_info": {
   "codemirror_mode": {
    "name": "ipython",
    "version": 3
   },
   "file_extension": ".py",
   "mimetype": "text/x-python",
   "name": "python",
   "nbconvert_exporter": "python",
   "pygments_lexer": "ipython3",
   "version": "3.6.8"
  }
 },
 "nbformat": 4,
 "nbformat_minor": 2
}
