{
 "cells": [
  {
   "cell_type": "code",
   "execution_count": 3,
   "metadata": {},
   "outputs": [],
   "source": [
    "import json\n",
    "from pprint import pprint\n",
    "import pandas as pd\n",
    "import numpy as np\n",
    "import matplotlib.pyplot as plt\n",
    "from pandas.io.json import json_normalize\n",
    "\n",
    "from IPython.core.interactiveshell import InteractiveShell\n",
    "InteractiveShell.ast_node_interactivity = \"all\""
   ]
  },
  {
   "cell_type": "code",
   "execution_count": 4,
   "metadata": {},
   "outputs": [],
   "source": [
    "import sys\n",
    "sys.path.insert(0, '../utils')\n",
    "import data_utils"
   ]
  },
  {
   "cell_type": "code",
   "execution_count": 5,
   "metadata": {},
   "outputs": [
    {
     "data": {
      "text/html": [
       "<div>\n",
       "<style scoped>\n",
       "    .dataframe tbody tr th:only-of-type {\n",
       "        vertical-align: middle;\n",
       "    }\n",
       "\n",
       "    .dataframe tbody tr th {\n",
       "        vertical-align: top;\n",
       "    }\n",
       "\n",
       "    .dataframe thead th {\n",
       "        text-align: right;\n",
       "    }\n",
       "</style>\n",
       "<table border=\"1\" class=\"dataframe\">\n",
       "  <thead>\n",
       "    <tr style=\"text-align: right;\">\n",
       "      <th></th>\n",
       "      <th>head.word</th>\n",
       "      <th>sentence</th>\n",
       "      <th>tail.word</th>\n",
       "    </tr>\n",
       "  </thead>\n",
       "  <tbody>\n",
       "    <tr>\n",
       "      <th>0</th>\n",
       "      <td>Arthur Schnitzler</td>\n",
       "      <td>The Little Comedy , '' a mannered operetta bas...</td>\n",
       "      <td>Vienna</td>\n",
       "    </tr>\n",
       "    <tr>\n",
       "      <th>1</th>\n",
       "      <td>Roberto Calvi</td>\n",
       "      <td>A court in Rome acquitted five people accused ...</td>\n",
       "      <td>Italy</td>\n",
       "    </tr>\n",
       "    <tr>\n",
       "      <th>2</th>\n",
       "      <td>Johnny Rivers</td>\n",
       "      <td>There were also performers who were born in Lo...</td>\n",
       "      <td>Louisiana</td>\n",
       "    </tr>\n",
       "    <tr>\n",
       "      <th>3</th>\n",
       "      <td>Philippines</td>\n",
       "      <td>When Julian Resuello , the mayor of San Carlos...</td>\n",
       "      <td>San Carlos City</td>\n",
       "    </tr>\n",
       "    <tr>\n",
       "      <th>4</th>\n",
       "      <td>Alex Salmond</td>\n",
       "      <td>A3 Concern Raised by Libya Deal Alex Salmond ,...</td>\n",
       "      <td>Scotland</td>\n",
       "    </tr>\n",
       "  </tbody>\n",
       "</table>\n",
       "</div>"
      ],
      "text/plain": [
       "           head.word                                           sentence  \\\n",
       "0  Arthur Schnitzler  The Little Comedy , '' a mannered operetta bas...   \n",
       "1      Roberto Calvi  A court in Rome acquitted five people accused ...   \n",
       "2      Johnny Rivers  There were also performers who were born in Lo...   \n",
       "3        Philippines  When Julian Resuello , the mayor of San Carlos...   \n",
       "4       Alex Salmond  A3 Concern Raised by Libya Deal Alex Salmond ,...   \n",
       "\n",
       "         tail.word  \n",
       "0           Vienna  \n",
       "1            Italy  \n",
       "2        Louisiana  \n",
       "3  San Carlos City  \n",
       "4         Scotland  "
      ]
     },
     "execution_count": 5,
     "metadata": {},
     "output_type": "execute_result"
    },
    {
     "data": {
      "text/plain": [
       "0    /people/person/place_of_birth\n",
       "1       /people/person/nationality\n",
       "2       /people/person/place_lived\n",
       "3      /location/location/contains\n",
       "4       /people/person/nationality\n",
       "Name: relation, dtype: object"
      ]
     },
     "execution_count": 5,
     "metadata": {},
     "output_type": "execute_result"
    }
   ],
   "source": [
    "df = data_utils.json_to_df('../data/raw/test.json')\n",
    "\n",
    "df_x = df[['head.word', 'sentence', 'tail.word']]\n",
    "df_y = df['relation']\n",
    "\n",
    "df_x.head()\n",
    "df_y.head()"
   ]
  },
  {
   "cell_type": "code",
   "execution_count": 6,
   "metadata": {},
   "outputs": [
    {
     "data": {
      "text/html": [
       "<div>\n",
       "<style scoped>\n",
       "    .dataframe tbody tr th:only-of-type {\n",
       "        vertical-align: middle;\n",
       "    }\n",
       "\n",
       "    .dataframe tbody tr th {\n",
       "        vertical-align: top;\n",
       "    }\n",
       "\n",
       "    .dataframe thead th {\n",
       "        text-align: right;\n",
       "    }\n",
       "</style>\n",
       "<table border=\"1\" class=\"dataframe\">\n",
       "  <thead>\n",
       "    <tr style=\"text-align: right;\">\n",
       "      <th></th>\n",
       "      <th>vec</th>\n",
       "      <th>word</th>\n",
       "    </tr>\n",
       "  </thead>\n",
       "  <tbody>\n",
       "    <tr>\n",
       "      <th>0</th>\n",
       "      <td>[0.198994, 0.219711, -0.190422, -0.162968, 0.0...</td>\n",
       "      <td>&lt;/s&gt;</td>\n",
       "    </tr>\n",
       "    <tr>\n",
       "      <th>1</th>\n",
       "      <td>[-0.006928, 0.031052, -0.140201, 0.041724, 0.1...</td>\n",
       "      <td>,</td>\n",
       "    </tr>\n",
       "    <tr>\n",
       "      <th>2</th>\n",
       "      <td>[-0.065975, 0.037477, 0.009166, 0.189686, 0.04...</td>\n",
       "      <td>.</td>\n",
       "    </tr>\n",
       "    <tr>\n",
       "      <th>3</th>\n",
       "      <td>[-0.147404, -0.03084, -0.020694, 0.023617, -0....</td>\n",
       "      <td>the</td>\n",
       "    </tr>\n",
       "    <tr>\n",
       "      <th>4</th>\n",
       "      <td>[-0.119614, -0.128246, -0.201903, 0.248234, -0...</td>\n",
       "      <td>'</td>\n",
       "    </tr>\n",
       "  </tbody>\n",
       "</table>\n",
       "</div>"
      ],
      "text/plain": [
       "                                                 vec  word\n",
       "0  [0.198994, 0.219711, -0.190422, -0.162968, 0.0...  </s>\n",
       "1  [-0.006928, 0.031052, -0.140201, 0.041724, 0.1...     ,\n",
       "2  [-0.065975, 0.037477, 0.009166, 0.189686, 0.04...     .\n",
       "3  [-0.147404, -0.03084, -0.020694, 0.023617, -0....   the\n",
       "4  [-0.119614, -0.128246, -0.201903, 0.248234, -0...     '"
      ]
     },
     "execution_count": 6,
     "metadata": {},
     "output_type": "execute_result"
    }
   ],
   "source": [
    "df_word_vec = data_utils.json_to_df('../data/raw/word_vec.json')\n",
    "df_word_vec.head()"
   ]
  },
  {
   "cell_type": "code",
   "execution_count": 15,
   "metadata": {},
   "outputs": [],
   "source": [
    "sentence = df_x.iloc[0]['sentence']"
   ]
  },
  {
   "cell_type": "code",
   "execution_count": 16,
   "metadata": {},
   "outputs": [],
   "source": [
    "from nltk.corpus import stopwords\n",
    "from nltk.tokenize import RegexpTokenizer\n",
    "\n",
    "tokenizer = RegexpTokenizer(r'\\w+')\n",
    "stop_words = set(stopwords.words('english'))\n",
    "\n",
    "def clean_stop_words(text):\n",
    "    word_tokens = tokenizer.tokenize(text.lower())\n",
    "    return [w for w in word_tokens if not w in stop_words]\n",
    "\n",
    "def get_word_vector(word):\n",
    "    return df_word_vec[df_word_vec['word'] == word]['vec']\n",
    "\n",
    "clean_words = clean_stop_words(sentence)"
   ]
  },
  {
   "cell_type": "code",
   "execution_count": 17,
   "metadata": {},
   "outputs": [
    {
     "data": {
      "text/plain": [
       "{'little': 222    [-0.226652, -0.014054, -0.063032, 0.032032, -0...\n",
       " Name: vec, dtype: object,\n",
       " 'comedy': 2081    [-0.215373, -0.012649, 0.050545, 0.201098, -0....\n",
       " Name: vec, dtype: object,\n",
       " 'mannered': 16733    [0.056982, 0.020545, 0.172472, -0.013877, 0.16...\n",
       " Name: vec, dtype: object,\n",
       " 'operetta': 27084    [-0.105239, 0.154391, 0.068828, 0.13269, 0.069...\n",
       " Name: vec, dtype: object,\n",
       " 'based': 343    [-0.038695, -0.037486, -0.208389, 0.126483, -0...\n",
       " Name: vec, dtype: object,\n",
       " 'short': 575    [-0.057137, -0.228122, 0.166657, 0.033295, 0.2...\n",
       " Name: vec, dtype: object,\n",
       " 'story': 451    [-0.099837, 0.038401, -0.058772, 0.324793, -0....\n",
       " Name: vec, dtype: object,\n",
       " 'arthur': 2777    [0.107145, 0.121737, 0.112867, 0.183907, -0.11...\n",
       " Name: vec, dtype: object,\n",
       " 'schnitzler': 55358    [0.179735, 0.159849, -0.064546, 0.210633, 0.01...\n",
       " Name: vec, dtype: object,\n",
       " 'set': 272    [-0.155176, -0.027629, -0.067453, 0.217813, 0....\n",
       " Name: vec, dtype: object,\n",
       " 'fin': 16265    [0.122962, 0.113223, -0.064344, 0.226941, 0.13...\n",
       " Name: vec, dtype: object,\n",
       " 'de': 799    [0.193683, 0.14382, 0.023322, 0.358574, 0.2917...\n",
       " Name: vec, dtype: object,\n",
       " 'si': 25725    [0.019429, -0.224957, -0.200682, 0.273893, 0.0...\n",
       " Name: vec, dtype: object,\n",
       " 'ècle': Series([], Name: vec, dtype: object),\n",
       " 'vienna': 5551    [-0.057128, 0.201531, -0.08115, 0.174644, 0.15...\n",
       " Name: vec, dtype: object,\n",
       " 'opens': 2338    [-0.235156, 0.118224, -0.095628, 0.293513, 0.0...\n",
       " Name: vec, dtype: object,\n",
       " 'evening': 907    [-0.152188, 0.249075, 0.159796, 0.018217, 0.04...\n",
       " Name: vec, dtype: object}"
      ]
     },
     "execution_count": 17,
     "metadata": {},
     "output_type": "execute_result"
    }
   ],
   "source": [
    "{word: get_word_vector(word) for word in clean_words}"
   ]
  }
 ],
 "metadata": {
  "kernelspec": {
   "display_name": "Python 3",
   "language": "python",
   "name": "python3"
  },
  "language_info": {
   "codemirror_mode": {
    "name": "ipython",
    "version": 3
   },
   "file_extension": ".py",
   "mimetype": "text/x-python",
   "name": "python",
   "nbconvert_exporter": "python",
   "pygments_lexer": "ipython3",
   "version": "3.6.8"
  }
 },
 "nbformat": 4,
 "nbformat_minor": 2
}
