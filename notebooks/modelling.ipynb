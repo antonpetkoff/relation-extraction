{
 "cells": [
  {
   "cell_type": "code",
   "execution_count": 1,
   "metadata": {},
   "outputs": [],
   "source": [
    "import json\n",
    "from pprint import pprint\n",
    "import pandas as pd\n",
    "import numpy as np\n",
    "import matplotlib.pyplot as plt\n",
    "from pandas.io.json import json_normalize\n",
    "\n",
    "from IPython.core.interactiveshell import InteractiveShell\n",
    "InteractiveShell.ast_node_interactivity = \"all\""
   ]
  },
  {
   "cell_type": "code",
   "execution_count": 2,
   "metadata": {},
   "outputs": [],
   "source": [
    "import sys\n",
    "sys.path.insert(0, '../utils')\n",
    "import data_utils\n",
    "\n",
    "sys.path.insert(0, '../models')\n",
    "import log_reg_word_embeddings"
   ]
  },
  {
   "cell_type": "code",
   "execution_count": 3,
   "metadata": {},
   "outputs": [],
   "source": [
    "df_train = data_utils.load_data_set('../data/train/train.csv')\n",
    "df_train_x = df_train[['head.word', 'tail.word', 'sentence']]\n",
    "df_train_y = df_train['relation']"
   ]
  },
  {
   "cell_type": "code",
   "execution_count": 4,
   "metadata": {},
   "outputs": [],
   "source": [
    "model = log_reg_word_embeddings.LogRegWordEmbeddings()"
   ]
  },
  {
   "cell_type": "code",
   "execution_count": 5,
   "metadata": {},
   "outputs": [
    {
     "name": "stdout",
     "output_type": "stream",
     "text": [
      "Tokenizing sentences...\n",
      "0    [she, also, oversaw, refinancing, state, super...\n",
      "1    [more, 2, 5, million, cubic, yards, contaminat...\n",
      "2    [the, onondaga, nation, 1, 500, members, feder...\n",
      "3    [he, born, istanbul, raised, eastern, city, ad...\n",
      "4    [by, end, recent, tour, rollins, met, soldiers...\n",
      "Name: sentence, dtype: object\n",
      "Averaging word embeddings...\n",
      "0    [-0.024940285714285717, -0.014328357142857137,...\n",
      "1    [0.022366650000000002, 0.060093550000000016, -...\n",
      "2    [-0.02160072727272727, 0.10642886363636364, -0...\n",
      "3    [0.012861874999999998, 0.0178651875, -0.102017...\n",
      "4    [0.07083508108108107, 0.03429608108108108, -0....\n",
      "Name: sentence, dtype: object\n"
     ]
    }
   ],
   "source": [
    "df_train_features = model.transform(df_train_x)"
   ]
  },
  {
   "cell_type": "code",
   "execution_count": 6,
   "metadata": {},
   "outputs": [],
   "source": [
    "# model.fit(df_train_x, df_train_y)"
   ]
  }
 ],
 "metadata": {
  "kernelspec": {
   "display_name": "Python 3",
   "language": "python",
   "name": "python3"
  },
  "language_info": {
   "codemirror_mode": {
    "name": "ipython",
    "version": 3
   },
   "file_extension": ".py",
   "mimetype": "text/x-python",
   "name": "python",
   "nbconvert_exporter": "python",
   "pygments_lexer": "ipython3",
   "version": "3.6.8"
  }
 },
 "nbformat": 4,
 "nbformat_minor": 2
}
