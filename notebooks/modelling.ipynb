{
 "cells": [
  {
   "cell_type": "code",
   "execution_count": 1,
   "metadata": {},
   "outputs": [],
   "source": [
    "import json\n",
    "from pprint import pprint\n",
    "import pandas as pd\n",
    "import numpy as np\n",
    "import matplotlib.pyplot as plt\n",
    "from pandas.io.json import json_normalize\n",
    "\n",
    "from IPython.core.interactiveshell import InteractiveShell\n",
    "InteractiveShell.ast_node_interactivity = \"all\""
   ]
  },
  {
   "cell_type": "code",
   "execution_count": 2,
   "metadata": {},
   "outputs": [],
   "source": [
    "import sys\n",
    "sys.path.insert(0, '../utils')\n",
    "import data_utils\n",
    "\n",
    "sys.path.insert(0, '../models')\n",
    "import log_reg_word_embeddings"
   ]
  },
  {
   "cell_type": "code",
   "execution_count": 3,
   "metadata": {},
   "outputs": [],
   "source": [
    "df_train = data_utils.load_data_set('../data/train/train.csv')\n",
    "df_train_x = df_train[['head.word', 'tail.word', 'sentence']]\n",
    "df_train_y = df_train['relation']"
   ]
  },
  {
   "cell_type": "code",
   "execution_count": 4,
   "metadata": {},
   "outputs": [],
   "source": [
    "model = log_reg_word_embeddings.LogRegWordEmbeddings()"
   ]
  },
  {
   "cell_type": "code",
   "execution_count": 8,
   "metadata": {},
   "outputs": [
    {
     "name": "stdout",
     "output_type": "stream",
     "text": [
      "Tokenizing sentences...\n",
      "0    [she, also, oversaw, refinancing, state, super...\n",
      "1    [more, 2, 5, million, cubic, yards, contaminat...\n",
      "2    [the, onondaga, nation, 1, 500, members, feder...\n",
      "3    [he, born, istanbul, raised, eastern, city, ad...\n",
      "4    [by, end, recent, tour, rollins, met, soldiers...\n",
      "Name: sentence, dtype: object\n",
      "Averaging word embeddings...\n",
      "0    [-0.024940285714285717, -0.014328357142857137,...\n",
      "1    [0.022366650000000002, 0.060093550000000016, -...\n",
      "2    [-0.02160072727272727, 0.10642886363636364, -0...\n",
      "3    [0.012861874999999998, 0.0178651875, -0.102017...\n",
      "4    [0.07083508108108107, 0.03429608108108108, -0....\n",
      "Name: sentence, dtype: object\n",
      "Shape of transformed input: (522517, 50)\n",
      "Fitting label encoder...\n",
      "['/broadcast/content/location' '/broadcast/producer/location'\n",
      " '/business/business_location/parent_company' '/business/company/advisors'\n",
      " '/business/company/founders' '/business/company/industry'\n",
      " '/business/company/locations' '/business/company/major_shareholders'\n",
      " '/business/company/place_founded'\n",
      " '/business/company_advisor/companies_advised'\n",
      " '/business/company_shareholder/major_shareholder_of'\n",
      " '/business/person/company' '/business/shopping_center/owner'\n",
      " '/business/shopping_center_owner/shopping_centers_owned'\n",
      " '/film/film/featured_film_locations' '/film/film_festival/location'\n",
      " '/film/film_location/featured_in_films'\n",
      " '/location/administrative_division/country' '/location/br_state/capital'\n",
      " '/location/cn_province/capital'\n",
      " '/location/country/administrative_divisions' '/location/country/capital'\n",
      " '/location/de_state/capital' '/location/fr_region/capital'\n",
      " '/location/in_state/administrative_capital'\n",
      " '/location/in_state/judicial_capital'\n",
      " '/location/in_state/legislative_capital' '/location/it_region/capital'\n",
      " '/location/jp_prefecture/capital' '/location/location/contains'\n",
      " '/location/mx_state/capital' '/location/neighborhood/neighborhood_of'\n",
      " '/location/province/capital' '/location/us_county/county_seat'\n",
      " '/location/us_state/capital' '/people/deceased_person/place_of_burial'\n",
      " '/people/deceased_person/place_of_death'\n",
      " '/people/ethnicity/geographic_distribution'\n",
      " '/people/ethnicity/included_in_group' '/people/ethnicity/includes_groups'\n",
      " '/people/ethnicity/people' '/people/family/country'\n",
      " '/people/family/members' '/people/person/children'\n",
      " '/people/person/ethnicity' '/people/person/nationality'\n",
      " '/people/person/place_lived' '/people/person/place_of_birth'\n",
      " '/people/person/profession' '/people/person/religion'\n",
      " '/people/place_of_interment/interred_here'\n",
      " '/people/profession/people_with_this_profession'\n",
      " '/sports/sports_team/location' '/sports/sports_team_location/teams'\n",
      " '/time/event/locations' 'NA']\n",
      "Transforming labels...\n",
      "Fitting model...\n"
     ]
    }
   ],
   "source": [
    "model.fit(df_train_x, df_train_y)"
   ]
  },
  {
   "cell_type": "code",
   "execution_count": 12,
   "metadata": {},
   "outputs": [
    {
     "name": "stdout",
     "output_type": "stream",
     "text": [
      "Tokenizing sentences...\n",
      "0    [she, also, oversaw, refinancing, state, super...\n",
      "1    [more, 2, 5, million, cubic, yards, contaminat...\n",
      "2    [the, onondaga, nation, 1, 500, members, feder...\n",
      "3    [he, born, istanbul, raised, eastern, city, ad...\n",
      "4    [by, end, recent, tour, rollins, met, soldiers...\n",
      "Name: sentence, dtype: object\n",
      "Averaging word embeddings...\n",
      "0    [-0.024940285714285717, -0.014328357142857137,...\n",
      "1    [0.022366650000000002, 0.060093550000000016, -...\n",
      "2    [-0.02160072727272727, 0.10642886363636364, -0...\n",
      "3    [0.012861874999999998, 0.0178651875, -0.102017...\n",
      "4    [0.07083508108108107, 0.03429608108108108, -0....\n",
      "Name: sentence, dtype: object\n",
      "Shape of transformed input: (5, 50)\n"
     ]
    },
    {
     "data": {
      "text/plain": [
       "array(['NA', 'NA', 'NA', 'NA', 'NA'], dtype=object)"
      ]
     },
     "execution_count": 12,
     "metadata": {},
     "output_type": "execute_result"
    }
   ],
   "source": [
    "model.predict(df_train_x.head())"
   ]
  },
  {
   "cell_type": "code",
   "execution_count": 17,
   "metadata": {},
   "outputs": [],
   "source": [
    "import pickle\n",
    "\n",
    "save_dir = '../trained_models/log_reg_word_embeddings.pkl'\n",
    "with open(save_dir, 'wb') as save_file:\n",
    "    pickle.dump(model.model, save_file)"
   ]
  },
  {
   "cell_type": "code",
   "execution_count": 19,
   "metadata": {},
   "outputs": [],
   "source": [
    "with open(save_dir, 'rb') as saved_file:\n",
    "    loaded_model = pickle.load(saved_file)"
   ]
  },
  {
   "cell_type": "code",
   "execution_count": 22,
   "metadata": {},
   "outputs": [
    {
     "data": {
      "text/plain": [
       "LogisticRegression(C=1.0, class_weight=None, dual=False, fit_intercept=True,\n",
       "          intercept_scaling=1, max_iter=100, multi_class='multinomial',\n",
       "          n_jobs=4, penalty='l2', random_state=None, solver='lbfgs',\n",
       "          tol=0.0001, verbose=0, warm_start=False)"
      ]
     },
     "execution_count": 22,
     "metadata": {},
     "output_type": "execute_result"
    }
   ],
   "source": [
    "loaded_model"
   ]
  },
  {
   "cell_type": "code",
   "execution_count": 70,
   "metadata": {},
   "outputs": [],
   "source": [
    "df_test = data_utils.load_data_set('../data/test/test.csv')\n",
    "df_test_x = df_test[['head.word', 'tail.word', 'sentence']]\n",
    "df_test_y = df_test['relation']"
   ]
  },
  {
   "cell_type": "code",
   "execution_count": 71,
   "metadata": {},
   "outputs": [
    {
     "name": "stdout",
     "output_type": "stream",
     "text": [
      "Tokenizing sentences...\n",
      "0    [the, little, comedy, mannered, operetta, base...\n",
      "1    [a, court, rome, acquitted, five, people, accu...\n",
      "2    [there, also, performers, born, louisiana, inc...\n",
      "3    [when, julian, resuello, mayor, san, carlos, c...\n",
      "4    [a3, concern, raised, libya, deal, alex, salmo...\n",
      "Name: sentence, dtype: object\n",
      "Averaging word embeddings...\n",
      "0    [-0.04764994117647058, 0.043827, -0.0100119411...\n",
      "1    [0.046854531250000005, -0.0070380000000000035,...\n",
      "2    [0.02044745454545455, 0.013675363636363645, -0...\n",
      "3    [0.10651433333333332, -0.028786888888888893, 0...\n",
      "4    [0.0343515, -0.01823760714285715, 0.0274138928...\n",
      "Name: sentence, dtype: object\n",
      "Shape of transformed input: (172446, 50)\n"
     ]
    }
   ],
   "source": [
    "predictions = model.predict(df_test_x)"
   ]
  },
  {
   "cell_type": "code",
   "execution_count": 73,
   "metadata": {},
   "outputs": [
    {
     "data": {
      "text/plain": [
       "Counter({'NA': 168932,\n",
       "         '/people/person/nationality': 420,\n",
       "         '/location/location/contains': 2321,\n",
       "         '/business/person/company': 110,\n",
       "         '/location/country/capital': 101,\n",
       "         '/people/person/place_lived': 236,\n",
       "         '/location/neighborhood/neighborhood_of': 108,\n",
       "         '/location/country/administrative_divisions': 210,\n",
       "         '/business/company/founders': 6,\n",
       "         '/people/deceased_person/place_of_death': 2})"
      ]
     },
     "execution_count": 73,
     "metadata": {},
     "output_type": "execute_result"
    },
    {
     "data": {
      "text/plain": [
       "Counter({'/people/person/place_of_birth': 162,\n",
       "         '/people/person/nationality': 723,\n",
       "         '/people/person/place_lived': 450,\n",
       "         '/location/location/contains': 2793,\n",
       "         '/sports/sports_team/location': 10,\n",
       "         '/business/person/company': 302,\n",
       "         '/location/country/capital': 553,\n",
       "         '/business/company/founders': 95,\n",
       "         '/film/film/featured_film_locations': 2,\n",
       "         '/location/administrative_division/country': 424,\n",
       "         '/location/us_county/county_seat': 23,\n",
       "         '/people/deceased_person/place_of_death': 68,\n",
       "         '/business/company/place_founded': 20,\n",
       "         '/location/country/languages_spoken': 3,\n",
       "         '/location/neighborhood/neighborhood_of': 68,\n",
       "         '/people/person/children': 30,\n",
       "         '/film/film_location/featured_in_films': 2,\n",
       "         '/people/ethnicity/geographic_distribution': 136,\n",
       "         '/location/country/administrative_divisions': 424,\n",
       "         '/location/us_state/capital': 39,\n",
       "         '/business/company_advisor/companies_advised': 8,\n",
       "         '/time/event/locations': 4,\n",
       "         '/people/person/religion': 6,\n",
       "         '/people/person/ethnicity': 13,\n",
       "         '/business/company/major_shareholders': 46,\n",
       "         '/people/place_of_interment/interred_here': 9,\n",
       "         '/location/province/capital': 11,\n",
       "         '/people/deceased_person/place_of_burial': 9,\n",
       "         '/business/company/advisors': 8,\n",
       "         '/location/br_state/capital': 2,\n",
       "         '/base/locations/countries/states_provinces_within': 1,\n",
       "         'NA': 166002})"
      ]
     },
     "execution_count": 73,
     "metadata": {},
     "output_type": "execute_result"
    }
   ],
   "source": [
    "from collections import Counter\n",
    "Counter(predictions)\n",
    "\n",
    "predicted_labels = predictions\n",
    "gold_labels = df_test_y\n",
    "\n",
    "Counter(gold_labels)"
   ]
  },
  {
   "cell_type": "code",
   "execution_count": 74,
   "metadata": {},
   "outputs": [
    {
     "name": "stderr",
     "output_type": "stream",
     "text": [
      "/home/tony/source/relation-extraction/venv/lib/python3.6/site-packages/sklearn/metrics/classification.py:1143: UndefinedMetricWarning: Precision is ill-defined and being set to 0.0 in labels with no predicted samples.\n",
      "  'precision', 'predicted', average, warn_for)\n",
      "/home/tony/source/relation-extraction/venv/lib/python3.6/site-packages/sklearn/metrics/classification.py:1143: UndefinedMetricWarning: F-score is ill-defined and being set to 0.0 in labels with no predicted samples.\n",
      "  'precision', 'predicted', average, warn_for)\n"
     ]
    },
    {
     "data": {
      "text/plain": [
       "{'accuracy': 0.9450378669264582,\n",
       " 'precision': 0.9291780131403298,\n",
       " 'recall': 0.9450378669264582,\n",
       " 'f1': 0.9369602840198727}"
      ]
     },
     "execution_count": 74,
     "metadata": {},
     "output_type": "execute_result"
    }
   ],
   "source": [
    "# Evaluation\n",
    "\n",
    "from sklearn.metrics import f1_score, precision_score, recall_score, accuracy_score\n",
    "\n",
    "def compute_score(predicted_labels, gold_labels, average='weighted'):\n",
    "    accuracy = accuracy_score(gold_labels, predicted_labels)\n",
    "    precision = precision_score(gold_labels, predicted_labels, average=average)\n",
    "    recall = recall_score(gold_labels, predicted_labels, average=average)\n",
    "    f1 = f1_score(gold_labels, predicted_labels, average=average)\n",
    "\n",
    "    return {\n",
    "        'accuracy': accuracy,\n",
    "        'precision': precision,\n",
    "        'recall': recall,\n",
    "        'f1': f1\n",
    "    }\n",
    "\n",
    "compute_score(predicted_labels, gold_labels)"
   ]
  },
  {
   "cell_type": "code",
   "execution_count": 120,
   "metadata": {},
   "outputs": [
    {
     "data": {
      "text/plain": [
       "OneHotEncoder(categorical_features=None, categories=None,\n",
       "       dtype=<class 'numpy.float64'>, handle_unknown='error',\n",
       "       n_values=None, sparse=True)"
      ]
     },
     "execution_count": 120,
     "metadata": {},
     "output_type": "execute_result"
    },
    {
     "data": {
      "text/plain": [
       "<172446x58 sparse matrix of type '<class 'numpy.float64'>'\n",
       "\twith 172446 stored elements in Compressed Sparse Row format>"
      ]
     },
     "execution_count": 120,
     "metadata": {},
     "output_type": "execute_result"
    },
    {
     "data": {
      "text/plain": [
       "<172446x58 sparse matrix of type '<class 'numpy.float64'>'\n",
       "\twith 172446 stored elements in Compressed Sparse Row format>"
      ]
     },
     "execution_count": 120,
     "metadata": {},
     "output_type": "execute_result"
    }
   ],
   "source": [
    "# Precision-Recall Curve\n",
    "\n",
    "from sklearn.metrics import precision_recall_curve\n",
    "from sklearn.preprocessing import OneHotEncoder\n",
    "\n",
    "combined_labels = np.append(df_test_y, [df_train_y]).reshape(-1, 1)\n",
    "\n",
    "one_hot_encoder = OneHotEncoder()\n",
    "one_hot_encoder.fit(combined_labels)\n",
    "\n",
    "one_hot_encoded_gold_labels = one_hot_encoder.transform(df_test_y.values.reshape(-1, 1))\n",
    "one_hot_encoded_gold_labels\n",
    "\n",
    "one_hot_encoded_predicted_labels = one_hot_encoder.transform(predicted_labels.reshape(-1, 1))\n",
    "one_hot_encoded_predicted_labels\n",
    "\n",
    "precision, recall, threshold = precision_recall_curve(\n",
    "    y_true=one_hot_encoded_gold_labels.reshape(-1, 1).toarray(),\n",
    "    probas_pred=one_hot_encoded_predicted_labels.reshape(-1, 1).toarray(),\n",
    "#     pos_label=1\n",
    ")"
   ]
  },
  {
   "cell_type": "code",
   "execution_count": 121,
   "metadata": {},
   "outputs": [
    {
     "data": {
      "text/plain": [
       "array([0.01724138, 0.94503787, 1.        ])"
      ]
     },
     "execution_count": 121,
     "metadata": {},
     "output_type": "execute_result"
    },
    {
     "data": {
      "text/plain": [
       "array([1.        , 0.94503787, 0.        ])"
      ]
     },
     "execution_count": 121,
     "metadata": {},
     "output_type": "execute_result"
    },
    {
     "data": {
      "text/plain": [
       "array([0., 1.])"
      ]
     },
     "execution_count": 121,
     "metadata": {},
     "output_type": "execute_result"
    }
   ],
   "source": [
    "precision\n",
    "recall\n",
    "threshold"
   ]
  }
 ],
 "metadata": {
  "kernelspec": {
   "display_name": "Python 3",
   "language": "python",
   "name": "python3"
  },
  "language_info": {
   "codemirror_mode": {
    "name": "ipython",
    "version": 3
   },
   "file_extension": ".py",
   "mimetype": "text/x-python",
   "name": "python",
   "nbconvert_exporter": "python",
   "pygments_lexer": "ipython3",
   "version": "3.6.8"
  }
 },
 "nbformat": 4,
 "nbformat_minor": 2
}
